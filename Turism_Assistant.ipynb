{
  "nbformat": 4,
  "nbformat_minor": 0,
  "metadata": {
    "colab": {
      "provenance": [],
      "authorship_tag": "ABX9TyMKv5EfM5+h2m+xiq91aT01",
      "include_colab_link": true
    },
    "kernelspec": {
      "name": "python3",
      "display_name": "Python 3"
    },
    "language_info": {
      "name": "python"
    }
  },
  "cells": [
    {
      "cell_type": "markdown",
      "metadata": {
        "id": "view-in-github",
        "colab_type": "text"
      },
      "source": [
        "<a href=\"https://colab.research.google.com/github/Anonymus-dev21/IA-model/blob/main/Turism_Assistant.ipynb\" target=\"_parent\"><img src=\"https://colab.research.google.com/assets/colab-badge.svg\" alt=\"Open In Colab\"/></a>"
      ]
    },
    {
      "cell_type": "code",
      "execution_count": 1,
      "metadata": {
        "id": "kkJfBwigPy2S"
      },
      "outputs": [],
      "source": [
        "!pip install -q -U google-generativeai\n"
      ]
    },
    {
      "cell_type": "code",
      "source": [
        "import google.generativeai as genai"
      ],
      "metadata": {
        "id": "NDR2WjMXih2T"
      },
      "execution_count": 2,
      "outputs": []
    },
    {
      "cell_type": "code",
      "source": [
        "from google.colab import userdata\n",
        "GOOGLE_API_KEY=userdata.get('asistente__turista')\n",
        "genai.configure(api_key=GOOGLE_API_KEY)"
      ],
      "metadata": {
        "id": "pbRzOJqYjfKj"
      },
      "execution_count": 3,
      "outputs": []
    },
    {
      "cell_type": "code",
      "source": [
        "generation_config = {\n",
        "  \"temperature\": 0.45,\n",
        "  \"top_p\": 0.95,\n",
        "  \"top_k\": 64,\n",
        "  \"max_output_tokens\": 8192,\n",
        "  \"response_mime_type\": \"text/plain\",\n",
        "}\n",
        "\n",
        "model = genai.GenerativeModel(\n",
        "  model_name=\"gemini-1.5-flash\",\n",
        "  generation_config=generation_config,\n",
        "  system_instruction=\"Eres un Asistente virtual de turismo el cual ayuda a sus clientes a palnificar el mejor viaje de la manera mas eficiente y hermosa posible.\\n Eres un asistente virtual de viajes que ayuda a los usuarios a planificar y reservar destinos, alojamiento y transporte de acuerdo a sus necesidades y presupuesto. \\n\",\n",
        ")\n",
        "\n",
        "history__chat = []\n",
        "\n",
        "def chatbot():\n",
        "    chat_session = model.start_chat(\n",
        "    history= history__chat\n",
        "  )\n",
        "\n",
        "\n",
        "    while True:\n",
        "        user_input = input(\"Tu: \")\n",
        "        if user_input.lower() in [\"salir\", \"exit\", \"no\"]:\n",
        "            print(\"Viajero Virtual: ¡Espero haberte ayudado! ¡Que tengas un excelente viaje! ✈️😊\")\n",
        "            break\n",
        "\n",
        "        response = chat_session.send_message(user_input)\n",
        "        print(\"Viajero Virtual: \", response.text)\n",
        "\n",
        "        history__chat.append({'role':'user', 'parts': {user_input}})\n",
        "        history__chat.append({'role':'model', 'parts': {response.text}})\n"
      ],
      "metadata": {
        "id": "j5ogVZcUnzTM"
      },
      "execution_count": 13,
      "outputs": []
    },
    {
      "cell_type": "code",
      "source": [
        "chatbot()"
      ],
      "metadata": {
        "colab": {
          "base_uri": "https://localhost:8080/",
          "height": 486
        },
        "id": "9e5BStWrs6_r",
        "outputId": "f27de21d-ba2e-48bd-bc99-8de3d57e7e77"
      },
      "execution_count": 16,
      "outputs": [
        {
          "output_type": "stream",
          "name": "stdout",
          "text": [
            "Tu: exiy\n",
            "Viajero Virtual:  ¡Entiendo! ¿Puedes contarme un poco más sobre tu viaje ideal?  \n",
            "\n",
            "Para ayudarte mejor, necesito saber:\n",
            "\n",
            "* **¿A dónde te gustaría ir?** (¿Tienes algún destino en mente o estás abierto a sugerencias?)\n",
            "* **¿Cuándo te gustaría viajar?** (Fechas específicas o un rango aproximado)\n",
            "* **¿Con quién viajarás?** (Solo, en pareja, familia, amigos)\n",
            "* **¿Cuál es tu presupuesto aproximado?**\n",
            "* **¿Qué tipo de viaje te interesa?** (Aventura, relax, cultural, gastronómico, etc.)\n",
            "\n",
            "Con esta información, puedo empezar a crear un itinerario personalizado para ti. 😊\n",
            "\n",
            "¡Entiendo! ¿Puedes contarme un poco más sobre tu viaje ideal?  \n",
            "\n",
            "Para ayudarte mejor, necesito saber:\n",
            "\n",
            "* **¿A dónde te gustaría ir?** (¿Tienes algún destino en mente o estás abierto a sugerencias?)\n",
            "* **¿Cuándo te gustaría viajar?** (Fechas específicas o un rango aproximado)\n",
            "* **¿Con quién viajarás?** (Solo, en pareja, familia, amigos)\n",
            "* **¿Cuál es tu presupuesto aproximado?**\n",
            "* **¿Qué tipo de viaje te interesa?** (Aventura, relax, cultural, gastronómico, etc.)\n",
            "\n",
            "Con esta información, puedo empezar a crear un itinerario personalizado para ti. 😊\n",
            "\n",
            "Tu: exit\n",
            "Viajero Virtual: ¡Espero haberte ayudado! ¡Que tengas un excelente viaje! ✈️😊\n"
          ]
        }
      ]
    }
  ]
}